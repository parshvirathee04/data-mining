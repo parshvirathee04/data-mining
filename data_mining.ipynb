{
 "cells": [
  {
   "cell_type": "code",
   "execution_count": 2,
   "metadata": {},
   "outputs": [
    {
     "name": "stdout",
     "output_type": "stream",
     "text": [
      "dimensions of training and test data matrix respectively  (3680, 49) (3680,) (921, 49) (921,)\n",
      "accuracy for random forest classifier  92.83387622149837\n",
      "accuracy for adaboost classifier  92.18241042345277\n",
      "accuracy for linear svc  91.53094462540716\n"
     ]
    },
    {
     "name": "stderr",
     "output_type": "stream",
     "text": [
      "C:\\Users\\parsh\\Anaconda3\\lib\\site-packages\\sklearn\\svm\\base.py:922: ConvergenceWarning: Liblinear failed to converge, increase the number of iterations.\n",
      "  \"the number of iterations.\", ConvergenceWarning)\n"
     ]
    }
   ],
   "source": [
    "import pandas as pd\n",
    "import numpy as np\n",
    "from sklearn.ensemble import RandomForestClassifier\n",
    "from sklearn.ensemble import AdaBoostClassifier\n",
    "from sklearn.svm import LinearSVC\n",
    "from sklearn.model_selection import train_test_split\n",
    "from sklearn import metrics\n",
    "from sklearn.metrics import accuracy_score\n",
    "from sklearn.preprocessing import StandardScaler\n",
    "from sklearn.decomposition import PCA\n",
    "data=pd.read_csv('spam.csv')\n",
    "y=np.array(data['class']);\n",
    "data1=data.drop('class',axis=1)\n",
    "x=np.array(data1)\n",
    "train_x,test_x,train_y,test_y=train_test_split(x,y,test_size=0.2,random_state=40)\n",
    "print('dimensions of training and test data matrix respectively ',train_x.shape,train_y.shape,test_x.shape,test_y.shape)\n",
    "#applying pca for dimensionality reduction \n",
    "scale=StandardScaler()\n",
    "scale.fit(train_x)\n",
    "train_x=scale.transform(train_x)\n",
    "test_x=scale.transform(test_x)\n",
    "pca=PCA(0.95)\n",
    "pca.fit(train_x)\n",
    "train_x=pca.transform(train_x)\n",
    "test_x=pca.transform(test_x)\n",
    "#training model using random forest classifier\n",
    "rf=RandomForestClassifier(n_estimators=1000,max_depth=12,random_state=40)\n",
    "rf.fit(train_x,train_y)\n",
    "ypred1=rf.predict(test_x)\n",
    "accu1=accuracy_score(test_y,ypred1)*100\n",
    "print('accuracy for random forest classifier ',accu1)\n",
    "#training model using ensemble learning adaboost classifier\n",
    "adb=AdaBoostClassifier(n_estimators=100,learning_rate=0.9)\n",
    "adb.fit(train_x,train_y)\n",
    "ypred2=adb.predict(test_x)\n",
    "accu2=accuracy_score(test_y,ypred2)*100\n",
    "print('accuracy for adaboost classifier ',accu2)\n",
    "#training model using linearsvc classifier of svm python library\n",
    "svm=LinearSVC()\n",
    "svm.fit(train_x,train_y)\n",
    "ypred3=svm.predict(test_x)\n",
    "accu3=accuracy_score(test_y,ypred3)*100\n",
    "print('accuracy for linear svc ',accu3)"
   ]
  },
  {
   "cell_type": "code",
   "execution_count": null,
   "metadata": {},
   "outputs": [],
   "source": []
  },
  {
   "cell_type": "code",
   "execution_count": null,
   "metadata": {},
   "outputs": [],
   "source": []
  }
 ],
 "metadata": {
  "kernelspec": {
   "display_name": "Python 3",
   "language": "python",
   "name": "python3"
  },
  "language_info": {
   "codemirror_mode": {
    "name": "ipython",
    "version": 3
   },
   "file_extension": ".py",
   "mimetype": "text/x-python",
   "name": "python",
   "nbconvert_exporter": "python",
   "pygments_lexer": "ipython3",
   "version": "3.7.1"
  }
 },
 "nbformat": 4,
 "nbformat_minor": 2
}
